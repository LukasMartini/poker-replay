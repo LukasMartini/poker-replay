{
 "cells": [
  {
   "cell_type": "code",
   "execution_count": 1,
   "metadata": {},
   "outputs": [],
   "source": [
    "from db_commands import execute_query\n",
    "\n",
    "def get_hand_count(user_id):\n",
    "    '''Gets the number of hands registered for a user_id.'''\n",
    "\n",
    "    get_hand_query=\"\"\"\n",
    "    SELECT COUNT(*) hands\n",
    "    FROM poker_session session\n",
    "    JOIN poker_hand hand ON session.id = hand.session_id\n",
    "    WHERE user_id = %s AND session.game_type = 'Cash'\n",
    "    \"\"\"\n",
    "    return execute_query(get_hand_query, (user_id,), fetch=True)\n",
    "\n",
    "def delete_upload(upload_id: int):\n",
    "    query = \"\"\"\n",
    "    DELETE FROM uploads WHERE id = %s\n",
    "    \"\"\"\n",
    "    execute_query(query, (upload_id,))\n",
    "\n",
    "def update_upload_status(upload_id: int, status: str):\n",
    "    query = \"\"\"\n",
    "    UPDATE uploads SET status = %s WHERE id = %s\n",
    "    \"\"\"\n",
    "    execute_query(query, (status, upload_id))"
   ]
  },
  {
   "cell_type": "code",
   "execution_count": 8,
   "metadata": {},
   "outputs": [
    {
     "data": {
      "text/plain": [
       "[{'player_id': 1,\n",
       "  'name': 'HortonRoundtree',\n",
       "  'hand_id': 1,\n",
       "  'hole_card1': None,\n",
       "  'hole_card2': None,\n",
       "  'position': 1,\n",
       "  'stack_size': Decimal('1.86')},\n",
       " {'player_id': 2,\n",
       "  'name': 'fourz4444',\n",
       "  'hand_id': 1,\n",
       "  'hole_card1': None,\n",
       "  'hole_card2': None,\n",
       "  'position': 2,\n",
       "  'stack_size': Decimal('1.91')},\n",
       " {'player_id': 4,\n",
       "  'name': 'ljab26',\n",
       "  'hand_id': 1,\n",
       "  'hole_card1': None,\n",
       "  'hole_card2': None,\n",
       "  'position': 5,\n",
       "  'stack_size': Decimal('2.96')},\n",
       " {'player_id': 5,\n",
       "  'name': 'vegasricky',\n",
       "  'hand_id': 1,\n",
       "  'hole_card1': None,\n",
       "  'hole_card2': None,\n",
       "  'position': 6,\n",
       "  'stack_size': Decimal('1.56')},\n",
       " {'player_id': 3,\n",
       "  'name': 'CashMatteo',\n",
       "  'hand_id': 1,\n",
       "  'hole_card1': '8c',\n",
       "  'hole_card2': '3d',\n",
       "  'position': 3,\n",
       "  'stack_size': Decimal('2.00')}]"
      ]
     },
     "execution_count": 8,
     "metadata": {},
     "output_type": "execute_result"
    }
   ],
   "source": [
    "\n",
    "from db_commands import get_db_connection\n",
    "\n",
    "\n",
    "def player_cards_in_hand(user_id, hand_id):\n",
    "    query = \"\"\"\n",
    "    SELECT player.id as player_id, player.name, player_cards.hand_id, player_cards.hole_card1, player_cards.hole_card2,\n",
    "           player_cards.position, player_cards.stack_size\n",
    "    FROM player\n",
    "    JOIN player_cards ON player_cards.player_id = player.id\n",
    "    JOIN poker_hand ON player_cards.hand_id = poker_hand.id\n",
    "    JOIN poker_session ON poker_hand.session_id = poker_session.id\n",
    "    LEFT JOIN authorized ON authorized.hand_id = poker_hand.id AND authorized.user_id = %s\n",
    "    WHERE player_cards.hand_id = %s AND (poker_session.user_id = %s OR authorized.user_id IS NOT NULL)\n",
    "    \"\"\"\n",
    "    \n",
    "    return execute_query(query, (user_id, hand_id, user_id), fetch=True, return_dict=True)\n",
    "\n",
    "user_id = 1\n",
    "data = player_cards_in_hand(user_id, 1)\n",
    "data"
   ]
  }
 ],
 "metadata": {
  "kernelspec": {
   "display_name": "poker-replay",
   "language": "python",
   "name": "python3"
  },
  "language_info": {
   "codemirror_mode": {
    "name": "ipython",
    "version": 3
   },
   "file_extension": ".py",
   "mimetype": "text/x-python",
   "name": "python",
   "nbconvert_exporter": "python",
   "pygments_lexer": "ipython3",
   "version": "3.10.6"
  }
 },
 "nbformat": 4,
 "nbformat_minor": 2
}
